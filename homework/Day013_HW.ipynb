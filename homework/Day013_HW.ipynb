{
 "cells": [
  {
   "cell_type": "markdown",
   "metadata": {},
   "source": [
    "# PTT 網路爬蟲實作練習\n",
    "\n",
    "\n",
    "* 能夠利用 Request + BeatifulSour 撰寫爬蟲，並存放到合適的資料結構\n"
   ]
  },
  {
   "cell_type": "markdown",
   "metadata": {},
   "source": [
    "## 作業目標\n",
    "\n",
    "根據範例 ，完成以下問題：\n",
    "\n",
    "* ① 印出最新文章的「作者」「標題」「時間」\n",
    "* ② 印出第一頁所有文章的「作者」「標題」「時間」\n"
   ]
  },
  {
   "cell_type": "markdown",
   "metadata": {},
   "source": [
    "### ① 印出最新文章的「作者」「標題」「時間」"
   ]
  },
  {
   "cell_type": "code",
   "execution_count": 1,
   "metadata": {},
   "outputs": [],
   "source": [
    "import requests\n",
    "from bs4 import BeautifulSoup"
   ]
  },
  {
   "cell_type": "code",
   "execution_count": 2,
   "metadata": {},
   "outputs": [
    {
     "name": "stdout",
     "output_type": "stream",
     "text": [
      "作者: Gotham (萬惡之城)\n",
      "標題: [新聞] 轉戰KBL聯賽 歐卡福加盟蔚山現代太陽神\n",
      "時間: Fri Dec 13 23:59:18 2019\n"
     ]
    }
   ],
   "source": [
    "url='https://www.ptt.cc/bbs/NBA/M.1576252763.A.DA5.html'\n",
    "\n",
    "r=requests.get(url)\n",
    "\n",
    "soup=BeautifulSoup(r.text,'html5lib')\n",
    "\n",
    "print('作者:',soup.find_all(class_=\"article-metaline\")[0].find(class_=\"article-meta-value\").text)\n",
    "print('標題:',soup.find_all(class_=\"article-metaline\")[1].find(class_=\"article-meta-value\").text)\n",
    "print('時間:',soup.find_all(class_=\"article-metaline\")[2].find(class_=\"article-meta-value\").text)"
   ]
  },
  {
   "cell_type": "markdown",
   "metadata": {},
   "source": [
    "### ② 印出第一頁所有文章的「作者」「標題」「時間」"
   ]
  },
  {
   "cell_type": "code",
   "execution_count": 3,
   "metadata": {},
   "outputs": [
    {
     "name": "stdout",
     "output_type": "stream",
     "text": [
      "作者: pneumo\n",
      "標題: [花邊] 可愛花了672.5萬鎂買了Staples對面的閣樓\n",
      "時間: 12/13\n",
      "作者: thnlkj0665\n",
      "標題: [花邊] 詹皇將滿35歲仍不見下滑 熱火主帥讚找到不老之泉\n",
      "時間: 12/13\n",
      "作者: -\n",
      "此文已被刪除\n",
      "作者: fukawa947\n",
      "標題: [新聞] 回到最初的起點？　甜瓜坦承一度願意重\n",
      "時間: 12/13\n",
      "作者: ilanese\n",
      "標題: Re: [新聞] 遭質疑詐傷 籃網總管：不會逼厄文復出\n",
      "時間: 12/13\n",
      "作者: NSYSUheng\n",
      "標題: [情報] Pippen：灰狼的隊友不喜歡Butler，因為他\n",
      "時間: 12/13\n",
      "作者: hvariables\n",
      "標題: [專欄] 甜瓜依舊甜 安東尼如何找回生涯第二春？\n",
      "時間: 12/13\n",
      "作者: Gotham\n",
      "標題: [新聞] 轉戰KBL聯賽 歐卡福加盟蔚山現代太陽神\n",
      "時間: 12/13\n",
      "作者: Vedan\n",
      "標題: [公告] 板規v6.6\n",
      "時間:  5/24\n",
      "作者: Vedan\n",
      "標題: [公告] 樂透取消及未來不再開啟樂透\n",
      "時間:  6/24\n",
      "作者: qazwsx879345\n",
      "標題: [公告] 版主上任相關事項 \n",
      "時間: 10/25\n",
      "作者: JerroLi\n",
      "標題: [情報] SEASON Schedule 賽程 December 19–20\n",
      "時間: 11/29\n",
      "作者: dragon803\n",
      "標題: [公告]是否禁止basketball top 5文章投票開始 \n",
      "時間: 12/08\n"
     ]
    }
   ],
   "source": [
    "url='https://www.ptt.cc/bbs/NBA/index.html'\n",
    "\n",
    "r=requests.get(url)\n",
    "\n",
    "soup=BeautifulSoup(r.text,'html5lib')\n",
    "\n",
    "for title in soup.find_all(class_=\"r-ent\"):\n",
    "    try:\n",
    "        print('作者:',title.find(class_=\"meta\").find(class_=\"author\").text)\n",
    "        print('標題:',title.find(class_=\"title\").find('a').text)\n",
    "        print('時間:',title.find(class_=\"meta\").find(class_=\"date\").text)\n",
    "    except AttributeError as error:\n",
    "        print('此文已被刪除')"
   ]
  },
  {
   "cell_type": "markdown",
   "metadata": {},
   "source": [
    "### ③ 試著爬爬看其他版的文章"
   ]
  },
  {
   "cell_type": "code",
   "execution_count": 4,
   "metadata": {},
   "outputs": [
    {
     "name": "stdout",
     "output_type": "stream",
     "text": [
      "作者: AZBTPATONY\n",
      "標題: [新聞] SPC-MLB》尷尬了！曾遭卡布雷拉狠揍 前洋\n",
      "時間: 12/13\n",
      "作者: HiranoMiu\n",
      "標題: [分享] 讀賣巨人與A. Sanchez簽約 年薪3.4億日圓\n",
      "時間: 12/13\n",
      "作者: polanco\n",
      "標題: [新聞] 紅襪補進兩工具人 林子偉競爭對手增加  \n",
      "時間: 12/13\n",
      "作者: murray\n",
      "標題: [新聞] 統一獅盼續約羅里奇　春訓先找3位洋投\n",
      "時間: 12/13\n",
      "作者: thnlkj0665\n",
      "標題: [分享] 鈴木一朗 參加學生棒球資格回復研修會\n",
      "時間: 12/13\n",
      "作者: ZhiLou\n",
      "標題: [新聞] 聯盟最佳陣容！洋基簽回光頭哥\n",
      "時間: 12/13\n",
      "作者: ZhiLou\n",
      "標題: [新聞] 期待重回台灣加入富邦 索沙：Let do it！\n",
      "時間: 12/13\n",
      "作者: u9300017\n",
      "標題: [新聞] SPC-索沙回鍋富邦悍將 引起韓網友熱議\n",
      "時間: 12/13\n",
      "作者: currykukuo\n",
      "標題: [新聞] SPC-興奮重返中職！ 索沙IG富邦文連發\n",
      "時間: 12/13\n",
      "作者: currykukuo\n",
      "標題: [新聞] 大聯盟新措施 吸毒者受罰前得先接受治療\n",
      "時間: 12/13\n",
      "作者: tmlc\n",
      "標題: [公告] 2019轉播心得徵文\n",
      "時間: 12/13\n",
      "作者: currykukuo\n",
      "標題: [新聞] WZH-總教練選林威助還是丘昌榮？辜仲諒將\n",
      "時間: 12/13\n",
      "作者: asdf1256\n",
      "標題: [專欄] 執教悍將非簡單任務 諸葛紅中的新挑戰 \n",
      "時間: 12/13\n",
      "作者: acwz7362\n",
      "標題: [新聞] 15歲投手飆速141公里吸引球探 黃保羅還要\n",
      "時間: 12/13\n",
      "作者: Allen524\n",
      "標題: Re: [新聞] 統一獅盼續約羅里奇　春訓先找3位洋投\n",
      "時間: 12/13\n",
      "作者: go190214\n",
      "標題: [新聞] 傳當面回絕首相安倍 鈴木一朗四度拒國民\n",
      "時間: 12/13\n",
      "作者: polanco\n",
      "標題: [新聞] SPC紐媒曝洋基談判內幕 當場送柯爾一個\n",
      "時間: 12/13\n",
      "作者: Sron\n",
      "標題: [閒聊] 可以邊打球邊吃東西的484只有棒球？\n",
      "時間: 12/13\n",
      "作者: acwz7362\n",
      "標題: [新聞] 從兄弟要走的路 看接任總教練會是誰？\n",
      "時間: 12/13\n",
      "作者: u9300017\n",
      "標題: [新聞] 鍾博臣體驗中國職棒　幫北京猛虎拿創辦\n",
      "時間: 12/13\n"
     ]
    }
   ],
   "source": [
    "url='https://www.ptt.cc/bbs/Baseball/index10030.html'\n",
    "\n",
    "r=requests.get(url)\n",
    "\n",
    "soup=BeautifulSoup(r.text,'html5lib')\n",
    "\n",
    "for title in soup.find_all(class_=\"r-ent\"):\n",
    "    try:\n",
    "        print('作者:',title.find(class_=\"meta\").find(class_=\"author\").text)\n",
    "        print('標題:',title.find(class_=\"title\").find('a').text)\n",
    "        print('時間:',title.find(class_=\"meta\").find(class_=\"date\").text)\n",
    "    except AttributeError as error:\n",
    "        print('此文已被刪除')"
   ]
  }
 ],
 "metadata": {
  "kernelspec": {
   "display_name": "Python 3",
   "language": "python",
   "name": "python3"
  },
  "language_info": {
   "codemirror_mode": {
    "name": "ipython",
    "version": 3
   },
   "file_extension": ".py",
   "mimetype": "text/x-python",
   "name": "python",
   "nbconvert_exporter": "python",
   "pygments_lexer": "ipython3",
   "version": "3.7.3"
  }
 },
 "nbformat": 4,
 "nbformat_minor": 2
}
