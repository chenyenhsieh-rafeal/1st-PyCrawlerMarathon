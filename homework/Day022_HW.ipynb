{
 "cells": [
  {
   "cell_type": "markdown",
   "metadata": {},
   "source": [
    "# 空氣污染監測網 網路爬蟲實作練習\n",
    "\n",
    "\n",
    "* 能夠利用 selenium + BeautifulSoup 撰寫爬蟲，並存放到合適的資料結構\n"
   ]
  },
  {
   "cell_type": "markdown",
   "metadata": {},
   "source": [
    "## 作業目標\n",
    "\n",
    "根據範例 ，完成以下問題：\n",
    "\n",
    "* ① 取出 台北市士林區 2018/01 – 2018/08 的 SO2 資料\n",
    "* ② 取出 台北市士林區 2018/01 – 2018/08 的 SO2、CO 資料\n",
    "\n",
    "\n",
    "\n"
   ]
  },
  {
   "cell_type": "code",
   "execution_count": 1,
   "metadata": {},
   "outputs": [],
   "source": [
    "# 打開瀏覽器\n",
    "\n",
    "from selenium import webdriver\n",
    "from selenium.webdriver.support.ui import Select\n",
    "from bs4 import BeautifulSoup\n",
    "\n",
    "browser = webdriver.Chrome(executable_path='chromedriver')\n",
    "\n",
    "browser.get(\"http://taqm.epa.gov.tw/taqm/tw/MonthlyAverage.aspx\")"
   ]
  },
  {
   "cell_type": "code",
   "execution_count": 2,
   "metadata": {},
   "outputs": [],
   "source": [
    "# 模擬使用者操作行為，選擇/點擊\n",
    "\n",
    "selectSite = Select(browser.find_element_by_id(\"ctl05_ddlSite\"))\n",
    "selectSite.select_by_value('11')\n",
    "selectYear = Select(browser.find_element_by_id(\"ctl05_ddlYear\"))\n",
    "selectYear.select_by_value('2018')\n",
    "\n",
    "browser.find_element_by_id('ctl05_btnQuery').click()"
   ]
  },
  {
   "cell_type": "markdown",
   "metadata": {},
   "source": [
    "### ① 取出 台北市士林區 2018/01 – 2018/08 的 SO2 資料"
   ]
  },
  {
   "cell_type": "code",
   "execution_count": 3,
   "metadata": {},
   "outputs": [
    {
     "name": "stdout",
     "output_type": "stream",
     "text": [
      "SO2\n",
      "2018/01 1.80\n",
      "2018/02 1.90\n",
      "2018/03 2.20\n",
      "2018/04 2.30\n",
      "2018/05 3.10\n",
      "2018/06 2.70\n",
      "2018/07 2.20\n",
      "2018/08 2.40\n"
     ]
    }
   ],
   "source": [
    "html_source=browser.page_source\n",
    "\n",
    "soup=BeautifulSoup(html_source,\"lxml\")\n",
    "\n",
    "result1=soup.find_all(name=\"tr\",attrs={\"style\":\"color:Black;\"})\n",
    "\n",
    "data_list=[]\n",
    "\n",
    "for item in range(len(result1)):\n",
    "    if item<=7:\n",
    "        data_list.append(result1[item])\n",
    "\n",
    "for i in range(len(data_list)):\n",
    "    if i==0:\n",
    "        print(data_list[i].find(\"td\").text)\n",
    "        print(data_list[i].find_all(\"td\")[2].text,data_list[i].find_all(\"td\")[3].text)\n",
    "    else:\n",
    "        print(data_list[i].find_all(\"td\")[0].text,data_list[i].find_all(\"td\")[1].text)"
   ]
  },
  {
   "cell_type": "markdown",
   "metadata": {},
   "source": [
    "### ② 取出 台北市士林區 2018/01 – 2018/08 的 SO2、CO 資料"
   ]
  },
  {
   "cell_type": "code",
   "execution_count": 4,
   "metadata": {},
   "outputs": [
    {
     "name": "stdout",
     "output_type": "stream",
     "text": [
      "SO2\n",
      "2018/01 1.80\n",
      "2018/02 1.90\n",
      "2018/03 2.20\n",
      "2018/04 2.30\n",
      "2018/05 3.10\n",
      "2018/06 2.70\n",
      "2018/07 2.20\n",
      "2018/08 2.40\n",
      "CO\n",
      "2018/01 0.34\n",
      "2018/02 0.44\n",
      "2018/03 0.40\n",
      "2018/04 0.38\n",
      "2018/05 0.34\n",
      "2018/06 0.29\n",
      "2018/07 0.21\n",
      "2018/08 0.30\n"
     ]
    }
   ],
   "source": [
    "html_source=browser.page_source\n",
    "\n",
    "soup=BeautifulSoup(html_source,\"lxml\")\n",
    "\n",
    "result1=soup.find_all(name=\"tr\",attrs={\"style\":\"color:Black;\"})\n",
    "\n",
    "data_list=[]\n",
    "\n",
    "for item in range(len(result1)):\n",
    "    if item<=7 or 12<=item<=19:\n",
    "        data_list.append(result1[item])\n",
    "\n",
    "for i in range(len(data_list)):\n",
    "    if i==0:\n",
    "        print(data_list[i].find(\"td\").text)\n",
    "        print(data_list[i].find_all(\"td\")[2].text,data_list[i].find_all(\"td\")[3].text)\n",
    "    elif i==8:\n",
    "        print(data_list[i].find(\"td\").text)\n",
    "        print(data_list[i].find_all(\"td\")[2].text,data_list[i].find_all(\"td\")[3].text)\n",
    "    else:\n",
    "        print(data_list[i].find_all(\"td\")[0].text,data_list[i].find_all(\"td\")[1].text)"
   ]
  },
  {
   "cell_type": "code",
   "execution_count": 5,
   "metadata": {},
   "outputs": [],
   "source": [
    "browser.quit()"
   ]
  }
 ],
 "metadata": {
  "kernelspec": {
   "display_name": "Python 3",
   "language": "python",
   "name": "python3"
  },
  "language_info": {
   "codemirror_mode": {
    "name": "ipython",
    "version": 3
   },
   "file_extension": ".py",
   "mimetype": "text/x-python",
   "name": "python",
   "nbconvert_exporter": "python",
   "pygments_lexer": "ipython3",
   "version": "3.7.3"
  }
 },
 "nbformat": 4,
 "nbformat_minor": 2
}
