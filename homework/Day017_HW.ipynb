{
 "cells": [
  {
   "cell_type": "markdown",
   "metadata": {},
   "source": [
    "# HTTP 動態網頁架構說明\n",
    "\n",
    "\n",
    "* 了解動態網頁的資料爬蟲策略\n",
    "* 知道非同步網頁載入機制（Ajax）\n",
    "* 學習兩種對應動態網頁爬蟲的的策略\n"
   ]
  },
  {
   "cell_type": "markdown",
   "metadata": {},
   "source": [
    "## 作業目標\n",
    "\n",
    "回答以下問題：\n",
    "\n",
    "1. 動態網頁跟靜態網頁的差別是什麼？原本靜態網頁的做法會產生什麼問題或是缺點？\n",
    "2. 還記得我們在 ETTODAY 靜態爬蟲實作練習中，有請大家完成一個題目「取出今天所有的發文」，但仔細看其實並沒有真的把當天所有的新聞都抓回來， 試著回答看看原因是什麼？及該如何檢查？\n"
   ]
  },
  {
   "cell_type": "markdown",
   "metadata": {},
   "source": [
    "### 1. 動態網頁跟靜態網頁的差別是什麼？原本靜態網頁的做法會產生什麼問題或是缺點？"
   ]
  },
  {
   "cell_type": "code",
   "execution_count": null,
   "metadata": {},
   "outputs": [],
   "source": [
    "''' 1-1 動態網頁跟靜態網頁的差別是什麼？\n",
    "    動態網頁: (1) 能夠在不同的時間爬取網路資料 (2) 透過AJAX可以指爬取資料而不用爬取整個網頁\n",
    "    靜態網頁: 只能在同一時間爬取資料及網頁\n",
    "    \n",
    "    1-2 原本靜態網頁的做法會產生什麼問題或是缺點？\n",
    "    由於要每次request,才會回覆資料,所以要透過不斷的request才能持續獲得資料,而非項動態爬蟲可以不斷爬取資料'''"
   ]
  },
  {
   "cell_type": "markdown",
   "metadata": {},
   "source": [
    "### 2. 還記得我們在 ETTODAY 靜態爬蟲實作練習中，有請大家完成一個題目「取出今天所有的發文」，但仔細看其實並沒有真的把當天所有的新聞都抓回來， 試著回答看看原因是什麼？及該如何檢查？"
   ]
  },
  {
   "cell_type": "code",
   "execution_count": null,
   "metadata": {},
   "outputs": [],
   "source": [
    "''' 因為當時使用的是靜態爬蟲,所以只能爬取當下網頁的頁面,無法像動態一樣可以持續的爬取網頁,\n",
    "    透過每筆新聞顯示的時間即可確認是否有將當天新聞全數爬取'''"
   ]
  }
 ],
 "metadata": {
  "kernelspec": {
   "display_name": "Python 3",
   "language": "python",
   "name": "python3"
  },
  "language_info": {
   "codemirror_mode": {
    "name": "ipython",
    "version": 3
   },
   "file_extension": ".py",
   "mimetype": "text/x-python",
   "name": "python",
   "nbconvert_exporter": "python",
   "pygments_lexer": "ipython3",
   "version": "3.7.3"
  }
 },
 "nbformat": 4,
 "nbformat_minor": 2
}
